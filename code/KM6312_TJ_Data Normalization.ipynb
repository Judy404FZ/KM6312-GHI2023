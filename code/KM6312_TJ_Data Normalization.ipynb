{
 "cells": [
  {
   "cell_type": "code",
   "execution_count": null,
   "id": "a2b3b6c6",
   "metadata": {},
   "outputs": [],
   "source": [
    "import pandas as pd\n",
    "from sklearn.preprocessing import StandardScaler, MinMaxScaler\n",
    "import numpy as np\n",
    "\n",
    "file_path = 'KM6312.xlsx'\n",
    "data = pd.read_excel(file_path)\n",
    "\n",
    "z_score_scaler = StandardScaler()\n",
    "min_max_scaler = MinMaxScaler()\n",
    "\n",
    "data['gdp_per_capita'] = np.log(data['gdp_per_capita'])\n",
    "\n",
    "data['social_support'] = z_score_scaler.fit_transform(data[['social_support']])\n",
    "data['freedom_to_make_life_choices'] = z_score_scaler.fit_transform(data[['freedom_to_make_life_choices']])\n",
    "data['perceptions_of_corruption'] = z_score_scaler.fit_transform(data[['perceptions_of_corruption']])\n",
    "\n",
    "data['hearlthy_life_expentancy'] = min_max_scaler.fit_transform(data[['hearlthy_life_expentancy']])\n",
    "data['generosity'] = min_max_scaler.fit_transform(data[['generosity']])\n",
    "\n",
    "div_by_100_cols = ['PDI', 'IDV', 'MAS', 'UAI', 'LTO', 'Indulgence']\n",
    "data[div_by_100_cols] = data[div_by_100_cols] / 100\n",
    "\n",
    "output_file_path = 'KM6312_Output.xlsx'\n",
    "data.to_excel(output_file_path, index=False)"
   ]
  }
 ],
 "metadata": {
  "kernelspec": {
   "display_name": "Python 3 (ipykernel)",
   "language": "python",
   "name": "python3"
  },
  "language_info": {
   "codemirror_mode": {
    "name": "ipython",
    "version": 3
   },
   "file_extension": ".py",
   "mimetype": "text/x-python",
   "name": "python",
   "nbconvert_exporter": "python",
   "pygments_lexer": "ipython3",
   "version": "3.11.4"
  }
 },
 "nbformat": 4,
 "nbformat_minor": 5
}
